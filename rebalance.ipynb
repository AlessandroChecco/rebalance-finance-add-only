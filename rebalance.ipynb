{
 "cells": [
  {
   "cell_type": "code",
   "execution_count": 59,
   "metadata": {
    "collapsed": false
   },
   "outputs": [],
   "source": [
    "import numpy as np\n",
    "import scipy.optimize\n",
    "from scipy.optimize import Bounds\n",
    "\n",
    "\n",
    "def rebalance(money,state,objective=[0.8,0.1,0.1]):\n",
    "    bounds = Bounds(np.array([0]*len(state)), np.array([np.inf]*len(state)))\n",
    "    bounds.keep_feasible=True\n",
    "    def f(x):\n",
    "        return np.sum((np.array(objective)*(np.sum(np.array(state))+money) - state -x)**2)\n",
    "    return scipy.optimize.minimize(fun=f,bounds=bounds,x0=np.array([money]*len(state))/len(state),constraints={'type': 'eq', 'fun': lambda x:  np.sum(x)-money})"
   ]
  },
  {
   "cell_type": "code",
   "execution_count": 75,
   "metadata": {
    "collapsed": false
   },
   "outputs": [
    {
     "name": "stdout",
     "output_type": "stream",
     "text": [
      "[1976.694   23.306    0.   ]\n"
     ]
    }
   ],
   "source": [
    "money_available = 2000\n",
    "current_state = [2138.73,488.77,520.14]\n",
    "objective = [0.8,0.1,0.1]\n",
    "with np.printoptions(precision=3, suppress=True):\n",
    "    print(rebalance(money_available,current_state,objective).x)"
   ]
  },
  {
   "cell_type": "code",
   "execution_count": null,
   "metadata": {
    "collapsed": true
   },
   "outputs": [],
   "source": []
  }
 ],
 "metadata": {
  "kernelspec": {
   "display_name": "Python 3",
   "language": "python",
   "name": "python3"
  },
  "language_info": {
   "codemirror_mode": {
    "name": "ipython",
    "version": 3
   },
   "file_extension": ".py",
   "mimetype": "text/x-python",
   "name": "python",
   "nbconvert_exporter": "python",
   "pygments_lexer": "ipython3",
   "version": "3.5.1"
  },
  "toc": {
   "colors": {
    "hover_highlight": "#DAA520",
    "running_highlight": "#FF0000",
    "selected_highlight": "#FFD700"
   },
   "moveMenuLeft": true,
   "nav_menu": {
    "height": "12px",
    "width": "252px"
   },
   "navigate_menu": true,
   "number_sections": true,
   "sideBar": true,
   "threshold": 4,
   "toc_cell": false,
   "toc_section_display": "block",
   "toc_window_display": false
  }
 },
 "nbformat": 4,
 "nbformat_minor": 0
}
