{
 "cells": [
  {
   "cell_type": "code",
   "execution_count": 85,
   "metadata": {
    "collapsed": false
   },
   "outputs": [],
   "source": [
    "import numpy as np\n",
    "import scipy.optimize\n",
    "from scipy.optimize import Bounds\n",
    "\n",
    "\n",
    "def rebalance_add_only(money,state,objective=[0.8,0.1,0.1]):\n",
    "    bounds = Bounds(np.array([0]*len(state)), np.array([np.inf]*len(state)))\n",
    "    bounds.keep_feasible=True\n",
    "    def f(x):\n",
    "        return np.sum((np.array(objective)*(np.sum(np.array(state))+money) - state -x)**2)\n",
    "    return scipy.optimize.minimize(fun=f,bounds=bounds,x0=np.array([money]*len(state))/len(state),constraints={'type': 'eq', 'fun': lambda x:  np.sum(x)-money})\n",
    "def rebalance_take_only(money,state,objective=[0.8,0.1,0.1]):\n",
    "    bounds = Bounds(np.array([-np.inf]*len(state)), np.array([0]*len(state)))\n",
    "    bounds.keep_feasible=True\n",
    "    def f(x):\n",
    "        return np.sum((np.array(objective)*(np.sum(np.array(state))+money) - state -x)**2)\n",
    "    return scipy.optimize.minimize(fun=f,bounds=bounds,x0=np.array([money]*len(state))/len(state),constraints={'type': 'eq', 'fun': lambda x:  np.sum(x)-money})\n",
    "def rebalance(money,state,objective=[0.8,0.1,0.1]):\n",
    "    def f(x):\n",
    "        return np.sum((np.array(objective)*(np.sum(np.array(state))+money) - state -x)**2)\n",
    "    return scipy.optimize.minimize(fun=f,x0=np.array([money]*len(state))/len(state),constraints={'type': 'eq', 'fun': lambda x:  np.sum(x)-money})"
   ]
  },
  {
   "cell_type": "code",
   "execution_count": 86,
   "metadata": {
    "collapsed": false
   },
   "outputs": [
    {
     "name": "stdout",
     "output_type": "stream",
     "text": [
      "[400.   0.   0.]\n"
     ]
    }
   ],
   "source": [
    "money_available = 400\n",
    "current_state = [2138.73,488.77,520.14]\n",
    "objective = [0.8,0.1,0.1]\n",
    "with np.printoptions(precision=3, suppress=True):\n",
    "    print(rebalance_add_only(money_available,current_state,objective).x)"
   ]
  },
  {
   "cell_type": "code",
   "execution_count": 88,
   "metadata": {
    "collapsed": false
   },
   "outputs": [
    {
     "name": "stdout",
     "output_type": "stream",
     "text": [
      "[  -0.     -84.315 -115.685]\n"
     ]
    }
   ],
   "source": [
    "#to take some\n",
    "money_available = -200\n",
    "current_state = [2138.73,488.77,520.14]\n",
    "objective = [0.8,0.1,0.1]\n",
    "with np.printoptions(precision=3, suppress=True):\n",
    "    print(rebalance_take_only(money_available,current_state,objective).x)"
   ]
  },
  {
   "cell_type": "code",
   "execution_count": 91,
   "metadata": {
    "collapsed": false
   },
   "outputs": [
    {
     "name": "stdout",
     "output_type": "stream",
     "text": [
      "[ 539.382 -154.006 -185.376]\n"
     ]
    }
   ],
   "source": [
    "#classic\n",
    "money_available = 200\n",
    "current_state = [2138.73,488.77,520.14]\n",
    "objective = [0.8,0.1,0.1]\n",
    "with np.printoptions(precision=3, suppress=True):\n",
    "    print(rebalance(money_available,current_state,objective).x)"
   ]
  }
 ],
 "metadata": {
  "kernelspec": {
   "display_name": "Python 3",
   "language": "python",
   "name": "python3"
  },
  "language_info": {
   "codemirror_mode": {
    "name": "ipython",
    "version": 3
   },
   "file_extension": ".py",
   "mimetype": "text/x-python",
   "name": "python",
   "nbconvert_exporter": "python",
   "pygments_lexer": "ipython3",
   "version": "3.5.1"
  },
  "toc": {
   "colors": {
    "hover_highlight": "#DAA520",
    "running_highlight": "#FF0000",
    "selected_highlight": "#FFD700"
   },
   "moveMenuLeft": true,
   "nav_menu": {
    "height": "12px",
    "width": "252px"
   },
   "navigate_menu": true,
   "number_sections": true,
   "sideBar": true,
   "threshold": 4,
   "toc_cell": false,
   "toc_section_display": "block",
   "toc_window_display": false
  }
 },
 "nbformat": 4,
 "nbformat_minor": 0
}
